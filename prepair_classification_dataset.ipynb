{
 "cells": [
  {
   "cell_type": "code",
   "execution_count": 1,
   "id": "be7d38dc",
   "metadata": {},
   "outputs": [],
   "source": [
    "# This file is modified version of original:\n",
    "# https://github.com/dangnh0611/kaggle_rsna_breast_cancer/blob/reproduce/src/tools/prepair_classification_dataset.py"
   ]
  },
  {
   "cell_type": "code",
   "execution_count": 2,
   "id": "07a7d1b7",
   "metadata": {},
   "outputs": [
    {
     "name": "stdout",
     "output_type": "stream",
     "text": [
      "Using global configuration (SETTINGS.json):\n",
      "--------------------------------------------------------------------------------\n",
      "ASSETS_DIR: ./assets/\n",
      "MODEL_CHECKPOINT_DIR: ./checkpoints/\n",
      "MODEL_FINAL_SELECTION_DIR: ./assets/reproduce/\n",
      "PROCESSED_DATA_DIR: ./datasets/processed/\n",
      "RAW_DATA_DIR: \n",
      "SUBMISSION_DIR: ./submissions/\n",
      "TEMP_DIR: ./tmp/\n",
      "__JSON_PATH__: /media/na/e0adac50-20ce-4eb4-9c9d-98faf82ddd46/rsna_breast/SETTINGS.json\n",
      "--------------------------------------------------------------------------------\n",
      "\n",
      "\n",
      "\n",
      "\n"
     ]
    }
   ],
   "source": [
    "import argparse\n",
    "import os\n",
    "import shutil\n",
    "\n",
    "from utils._prepair_classification_dataset_stage1 import *\n",
    "from utils._prepair_classification_dataset_stage2 import *\n",
    "\n",
    "from settings import SETTINGS\n",
    "from misc import rm_and_mkdir"
   ]
  },
  {
   "cell_type": "code",
   "execution_count": 3,
   "id": "7a71600a",
   "metadata": {},
   "outputs": [],
   "source": [
    "STAGE1_PROCESS_FUNCS = {\n",
    "    'rsna-breast-cancer-detection': stage1_process_rsna,\n",
    "#     'vindr': stage1_process_vindr,\n",
    "#     'miniddsm': stage1_process_miniddsm,\n",
    "#     'cmmd': stage1_process_cmmd,\n",
    "#     'cddcesm': stage1_process_cddcesm,\n",
    "#     'bmcd': stage1_process_bmcd,\n",
    "}\n",
    "\n",
    "STAGE2_PROCESS_FUNCS = {\n",
    "    'rsna-breast-cancer-detection': stage2_process_rsna,\n",
    "#     'vindr': stage2_process_vindr,\n",
    "#     'miniddsm': stage2_process_miniddsm,\n",
    "#     'cmmd': stage2_process_cmmd,\n",
    "#     'cddcesm': stage2_process_cddcesm,\n",
    "#     'bmcd': stage2_process_bmcd,\n",
    "}"
   ]
  },
  {
   "cell_type": "code",
   "execution_count": 4,
   "id": "827315d9",
   "metadata": {},
   "outputs": [],
   "source": [
    "def parse_args():\n",
    "    parser = argparse.ArgumentParser('Prepair classification dataset.')\n",
    "    parser.add_argument(\n",
    "        '--num-workers',\n",
    "        type=int,\n",
    "        default=4,#4\n",
    "        help='Number of workers for (dicomsdl + YOLOX) decoding.')\n",
    "    parser.add_argument(\n",
    "        '--roi-yolox-engine-path',\n",
    "        type=str,\n",
    "        default=None,\n",
    "        help='Path to TensorRT engine of YOLOX ROI detection model.')\n",
    "    #args = parser.parse_args()\n",
    "    args, unknown = parser.parse_known_args()\n",
    "    return args"
   ]
  },
  {
   "cell_type": "code",
   "execution_count": null,
   "id": "57d243ae",
   "metadata": {},
   "outputs": [],
   "source": []
  },
  {
   "cell_type": "code",
   "execution_count": 183,
   "id": "983fc32c",
   "metadata": {},
   "outputs": [],
   "source": [
    "def main(args):\n",
    "    ROI_YOLOX_ENGINE_PATH = os.path.join(SETTINGS.MODEL_FINAL_SELECTION_DIR,\n",
    "                                         'yolox_nano_416_roi_trt.pth')\n",
    "    if args.roi_yolox_engine_path:\n",
    "        ROI_YOLOX_ENGINE_PATH = args.roi_yolox_engine_path\n",
    "    print('Using YOLOX engine path:', ROI_YOLOX_ENGINE_PATH)\n",
    "\n",
    "    DATASETS = [\n",
    "        'rsna-breast-cancer-detection',# 'vindr', 'miniddsm', 'cmmd', 'cddcesm','bmcd'\n",
    "    ]\n",
    "    STAGES = ['stage1', 'stage2']\n",
    "\n",
    "    for dataset in DATASETS:\n",
    "        print('Processing', dataset)\n",
    "        raw_root_dir = os.path.join(SETTINGS.RAW_DATA_DIR, dataset)\n",
    "        \n",
    "        stage1_images_dir = os.path.join(raw_root_dir, 'stage1_images')\n",
    "        cleaned_root_dir = os.path.join(SETTINGS.PROCESSED_DATA_DIR,\n",
    "                                        'classification', dataset)\n",
    "        cleaned_label_path = os.path.join(cleaned_root_dir,\n",
    "                                          'cleaned_label.csv')\n",
    "        cleaned_images_dir = os.path.join(cleaned_root_dir, 'cleaned_images')\n",
    "\n",
    "        if 'stage1' in STAGES:\n",
    "            # remove `stage1_images` directory\n",
    "            if os.path.exists(stage1_images_dir):\n",
    "                try:\n",
    "                    shutil.rmtree(stage1_images_dir)\n",
    "                except OSError:\n",
    "                    # OSError: Cannot call rmtree on a symbolic link\n",
    "                    os.remove(stage1_images_dir)\n",
    "            rm_and_mkdir(cleaned_root_dir)\n",
    "\n",
    "            stage1_process_func = STAGE1_PROCESS_FUNCS[dataset]\n",
    "            # raw_root_dir => rsna-breast-cancer-detection\n",
    "            # stage1_images_dir => rsna-breast-cancer-detection/stage1_images\n",
    "            # cleaned_root_dir => ./datasets/processed/classification/rsna-breast-cancer-detection\n",
    "\n",
    "            stage1_process_func(raw_root_dir,\n",
    "                                stage1_images_dir,\n",
    "                                cleaned_label_path,\n",
    "                                force_copy=False)\n",
    "\n",
    "        if 'stage2' in STAGES:\n",
    "            rm_and_mkdir(cleaned_images_dir)\n",
    "            assert os.path.exists(cleaned_label_path)\n",
    "\n",
    "            stage2_process_func = STAGE2_PROCESS_FUNCS[dataset]\n",
    "            print('Converting to 8-bits png images..')\n",
    "            stage2_process_func(ROI_YOLOX_ENGINE_PATH,\n",
    "                                stage1_images_dir,\n",
    "                                cleaned_label_path,\n",
    "                                cleaned_images_dir,\n",
    "                                n_jobs=args.num_workers,\n",
    "                                n_chunks=args.num_workers)\n",
    "        print('Done!')\n",
    "        print('-----------------\\n\\n')\n"
   ]
  },
  {
   "cell_type": "code",
   "execution_count": null,
   "id": "9502634b",
   "metadata": {},
   "outputs": [],
   "source": []
  },
  {
   "cell_type": "code",
   "execution_count": 186,
   "id": "937e060b",
   "metadata": {},
   "outputs": [
    {
     "name": "stdout",
     "output_type": "stream",
     "text": [
      "Using YOLOX engine path: ./assets/reproduce/yolox_nano_416_roi_trt.pth\n",
      "Processing rsna-breast-cancer-detection\n"
     ]
    },
    {
     "name": "stderr",
     "output_type": "stream",
     "text": [
      "100%|████████████████████████████| 54706/54706 [00:53<00:00, 1026.34it/s]\n"
     ]
    },
    {
     "name": "stdout",
     "output_type": "stream",
     "text": [
      "Converting to 8-bits png images..\n",
      "Starting 4 jobs with backend `loky`, 4 chunks...\n",
      "Loading YOLOX from ./assets/reproduce/yolox_nano_416_roi_trt.pth\n",
      "ROI extractor (YOLOX) loaded!\n",
      "Loading YOLOX from ./assets/reproduce/yolox_nano_416_roi_trt.pth\n",
      "ROI extractor (YOLOX) loaded!\n",
      "Loading YOLOX from ./assets/reproduce/yolox_nano_416_roi_trt.pth\n",
      "ROI extractor (YOLOX) loaded!\n",
      "Loading YOLOX from ./assets/reproduce/yolox_nano_416_roi_trt.pth\n",
      "ROI extractor (YOLOX) loaded!\n"
     ]
    },
    {
     "name": "stderr",
     "output_type": "stream",
     "text": [
      "100%|█████████▉| 13676/13677 [2:22:18<00:00,  1.85it/s]  "
     ]
    },
    {
     "name": "stdout",
     "output_type": "stream",
     "text": [
      "Convert done in 8541.229033470154 sec\n",
      "Done!\n",
      "-----------------\n",
      "\n",
      "\n"
     ]
    },
    {
     "name": "stderr",
     "output_type": "stream",
     "text": [
      "\r",
      "100%|██████████| 13677/13677 [2:22:19<00:00,  1.76it/s]\r",
      "100%|██████████| 13677/13677 [2:22:19<00:00,  1.60it/s]"
     ]
    },
    {
     "name": "stdout",
     "output_type": "stream",
     "text": [
      "ROI detection: using Otsu.\n",
      "ROI detection: using Otsu.\n",
      "ROI detection: using Otsu.\n",
      "ROI detection: using Otsu.\n",
      "ROI detection: using Otsu.\n"
     ]
    },
    {
     "name": "stderr",
     "output_type": "stream",
     "text": [
      "\n",
      "\n"
     ]
    }
   ],
   "source": [
    "if __name__ == '__main__':\n",
    "    args = parse_args()\n",
    "    main(args)"
   ]
  },
  {
   "cell_type": "code",
   "execution_count": null,
   "id": "25bb2523",
   "metadata": {},
   "outputs": [],
   "source": []
  },
  {
   "cell_type": "code",
   "execution_count": null,
   "id": "639d64e7",
   "metadata": {},
   "outputs": [],
   "source": []
  },
  {
   "cell_type": "code",
   "execution_count": null,
   "id": "a2fea5f9",
   "metadata": {},
   "outputs": [],
   "source": []
  },
  {
   "cell_type": "code",
   "execution_count": null,
   "id": "652493cb",
   "metadata": {},
   "outputs": [],
   "source": []
  }
 ],
 "metadata": {
  "kernelspec": {
   "display_name": "Python 3 (ipykernel)",
   "language": "python",
   "name": "python3"
  },
  "language_info": {
   "codemirror_mode": {
    "name": "ipython",
    "version": 3
   },
   "file_extension": ".py",
   "mimetype": "text/x-python",
   "name": "python",
   "nbconvert_exporter": "python",
   "pygments_lexer": "ipython3",
   "version": "3.7.12"
  }
 },
 "nbformat": 4,
 "nbformat_minor": 5
}
