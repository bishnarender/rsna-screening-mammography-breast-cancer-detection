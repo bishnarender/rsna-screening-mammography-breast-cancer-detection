{
 "cells": [
  {
   "cell_type": "code",
   "execution_count": null,
   "id": "77603727",
   "metadata": {},
   "outputs": [],
   "source": [
    "# This file is modified version of original:\n",
    "# https://github.com/dangnh0611/kaggle_rsna_breast_cancer/blob/reproduce/src/tools/prepair_roi_det_dataset.py"
   ]
  },
  {
   "cell_type": "code",
   "execution_count": null,
   "id": "3836a63b",
   "metadata": {},
   "outputs": [],
   "source": [
    "# pip3 install -q yacs\n",
    "# pip3 install -q dicomsdl\n",
    "\n",
    "# https://docs.nvidia.com/deeplearning/dali/user-guide/docs/installation.html\n",
    "# pip3 install --extra-index-url https://developer.download.nvidia.com/compute/redist --upgrade nvidia-dali-cuda110\n",
    "\n",
    "# pip3 install -q tensorrt # this package would take time approx. 25 minutes."
   ]
  },
  {
   "cell_type": "code",
   "execution_count": null,
   "id": "bb90a8dd",
   "metadata": {},
   "outputs": [],
   "source": []
  },
  {
   "cell_type": "code",
   "execution_count": 7,
   "id": "3b7ef755",
   "metadata": {},
   "outputs": [],
   "source": [
    "\"\"\"\n",
    "Prepair YOLOX detection dataset.\n",
    "- Convert competition's raw dicom to png\n",
    "- Convert YOLOv5 format --> COCO format\n",
    "\"\"\"\n",
    "\n",
    "import argparse\n",
    "import os\n",
    "import shutil\n",
    "import sys\n",
    "\n",
    "import cv2\n",
    "from yolov5_2_coco import YOLOV5ToCOCO\n",
    "\n",
    "from settings import SETTINGS\n",
    "import misc as misc_utils\n",
    "from dicom import convert_with_dicomsdl_parallel\n"
   ]
  },
  {
   "cell_type": "code",
   "execution_count": 13,
   "id": "94be2996",
   "metadata": {},
   "outputs": [],
   "source": [
    "def parse_args():\n",
    "    parser = argparse.ArgumentParser(description='Prepair YOLOX ROI detection dataset in COCO format')\n",
    "    parser.add_argument('--num-workers', type=int, default=11, help='Number of workers for dicomsdl decoding.')\n",
    "    \n",
    "    #args = parser.parse_args()\n",
    "    args, unknown = parser.parse_known_args()\n",
    "    return args"
   ]
  },
  {
   "cell_type": "code",
   "execution_count": 9,
   "id": "a51be632",
   "metadata": {},
   "outputs": [
    {
     "name": "stdout",
     "output_type": "stream",
     "text": [
      "ASSETS_DIR: ./assets/\n",
      "MODEL_CHECKPOINT_DIR: ./checkpoints/\n",
      "MODEL_FINAL_SELECTION_DIR: ./assets/reproduce/\n",
      "PROCESSED_DATA_DIR: ./datasets/processed/\n",
      "RAW_DATA_DIR: \n",
      "SUBMISSION_DIR: ./submissions/\n",
      "TEMP_DIR: ./tmp/\n",
      "__JSON_PATH__: /media/na/e0adac50-20ce-4eb4-9c9d-98faf82ddd46/rsna_breast/SETTINGS.json\n"
     ]
    }
   ],
   "source": [
    "print(SETTINGS)"
   ]
  },
  {
   "cell_type": "code",
   "execution_count": 38,
   "id": "e293e286",
   "metadata": {},
   "outputs": [],
   "source": [
    "def main(args):\n",
    "    ASSET_ROI_YOLOV5_DATA_DIR = os.path.join(SETTINGS.ASSETS_DIR, 'data', 'roi_det_yolov5_format')\n",
    "    # ASSET_ROI_YOLOV5_DATA_DIR => ./assets/data/roi_det_yolov5_format\n",
    "    \n",
    "    # copy all competition data files to folder \"rsna-breast-cancer-detection\".\n",
    "    KAGGLE_DCM_DIR = os.path.join(SETTINGS.RAW_DATA_DIR,\n",
    "                                  'rsna-breast-cancer-detection',# rsna-breast-cancer-detection\n",
    "                                  'train_images')\n",
    "    # KAGGLE_DCM_DIR => train_images\n",
    "\n",
    "    ROI_YOLOV5_DATA_DIR = os.path.join(SETTINGS.PROCESSED_DATA_DIR,\n",
    "                                       'roi_det_yolox', 'yolov5_format')\n",
    "\n",
    "    ROI_COCO_DATA_DIR = os.path.join(SETTINGS.PROCESSED_DATA_DIR,\n",
    "                                     'roi_det_yolox', 'coco_format')\n",
    "    \n",
    "    \n",
    "    # Copy manually annotated label\n",
    "    # Copy mannual annotated breast ROI box in YOLOv5 format from ./assets/data/roi_det_yolov5_format/ to {PROCESSED_DATA_DIR}/roi_det_yolox/yolov5_format/\n",
    "    misc_utils.rm_and_mkdir(os.path.dirname(ROI_YOLOV5_DATA_DIR))\n",
    "    print(f'Copy from {ASSET_ROI_YOLOV5_DATA_DIR} --> {ROI_YOLOV5_DATA_DIR}')\n",
    "    shutil.copytree(ASSET_ROI_YOLOV5_DATA_DIR,  ROI_YOLOV5_DATA_DIR)\n",
    "    \n",
    "\n",
    "    misc_utils.rm_and_mkdir(os.path.join(ROI_YOLOV5_DATA_DIR, 'images'))\n",
    "    misc_utils.rm_and_mkdir(\n",
    "        os.path.join(ROI_YOLOV5_DATA_DIR, 'background_images'))\n",
    "\n",
    "    dcm_paths = []\n",
    "    save_paths = []\n",
    "    \n",
    "    for split in ['train', 'val']:\n",
    "        txt_list_path = os.path.join(ROI_YOLOV5_DATA_DIR, f'{split}.txt')\n",
    "        with open(txt_list_path, 'r') as f:\n",
    "            content = f.read()\n",
    "            \n",
    "        # type(content) => <class 'str'>\n",
    "        # content[0:50] => \n",
    "        # images/10042@495770405.png\n",
    "        # images/10314@410335114.\n",
    "\n",
    "        paths = [line for line in content.split('\\n') if line]\n",
    "        # paths[0:5] =>\n",
    "        # ['images/10042@495770405.png', 'images/10314@410335114.png', 'images/10267@647260524.png', 'images/16488@793868015.png', 'images/10224@1800447452.png']\n",
    "        names = [os.path.basename(p) for p in paths]\n",
    "        # names[0:5]\n",
    "        # ['10042@495770405.png', '10314@410335114.png', '10267@647260524.png', '16488@793868015.png', '10224@1800447452.png']                \n",
    "        \n",
    "        for name in names:\n",
    "            patient_id, image_id = name.split('.')[0].split('@')\n",
    "            dcm_path = os.path.join(KAGGLE_DCM_DIR, patient_id,\n",
    "                                    f'{image_id}.dcm')\n",
    "            save_path = os.path.join(ROI_YOLOV5_DATA_DIR, 'images', name)\n",
    "            dcm_paths.append(dcm_path)\n",
    "            save_paths.append(save_path)\n",
    "            \n",
    "    # save_paths[0:2] => ['./datasets/processed/roi_det_yolox/yolov5_format/images/10042@495770405.png', './datasets/processed/roi_det_yolox/yolov5_format/images/10314@410335114.png']\n",
    "    # dcm_paths[0:3] => ['train_images/10042/495770405.dcm', 'train_images/10314/410335114.dcm', 'train_images/10267/647260524.dcm']\n",
    "    assert len(dcm_paths) == len(save_paths)\n",
    "    print('Total:', len(dcm_paths))\n",
    "\n",
    "    print('Converting dicom to png..')\n",
    "    # convert dicom to png (full resolution)\n",
    "    convert_with_dicomsdl_parallel(dcm_paths,\n",
    "                                   save_paths,\n",
    "                                   normalization='min_max',\n",
    "                                   save_backend='cv2',\n",
    "                                   save_dtype='uint8',\n",
    "                                   parallel_n_jobs=args.num_workers,\n",
    "                                   joblib_backend='loky',\n",
    "                                   legacy=True)\n",
    "\n",
    "    print('Converting YOLOv5 format to COCO format..')\n",
    "    \n",
    "    # tool for converting a yolov5 format dataset to COCO format working with yolov5, yolox and yolov6.\n",
    "    # https://github.com/RapidAI/YOLO2COCO/blob/main/yolov5_2_coco.py\n",
    "    yolov5_to_coco_converter = YOLOV5ToCOCO(src_dir=ROI_YOLOV5_DATA_DIR,\n",
    "                                            dst_dir=ROI_COCO_DATA_DIR)\n",
    "    yolov5_to_coco_converter(mode_list=['train', 'val'])\n"
   ]
  },
  {
   "cell_type": "code",
   "execution_count": 22,
   "id": "0d1eb435",
   "metadata": {},
   "outputs": [
    {
     "name": "stdout",
     "output_type": "stream",
     "text": [
      "__main__\n"
     ]
    }
   ],
   "source": [
    "print(__name__)"
   ]
  },
  {
   "cell_type": "code",
   "execution_count": 42,
   "id": "f8bdf88b",
   "metadata": {},
   "outputs": [
    {
     "name": "stdout",
     "output_type": "stream",
     "text": [
      "Total: 571\n",
      "Converting dicom to png..\n",
      "Starting 11 jobs with backend `loky`\n"
     ]
    },
    {
     "name": "stderr",
     "output_type": "stream",
     "text": [
      "100%|██████████████████████████████████| 571/571 [00:54<00:00, 10.40it/s]\n"
     ]
    },
    {
     "name": "stdout",
     "output_type": "stream",
     "text": [
      "Converting YOLOv5 format to COCO format..\n"
     ]
    },
    {
     "name": "stderr",
     "output_type": "stream",
     "text": [
      "train: 100%|███████████████████████████| 521/521 [01:49<00:00,  4.74it/s]\n",
      "val: 100%|███████████████████████████████| 50/50 [00:10<00:00,  4.81it/s]"
     ]
    },
    {
     "name": "stdout",
     "output_type": "stream",
     "text": [
      "Successfully convert, detail in datasets/processed/roi_det_yolox/coco_format\n"
     ]
    },
    {
     "name": "stderr",
     "output_type": "stream",
     "text": [
      "\n"
     ]
    }
   ],
   "source": [
    "if __name__ == '__main__':\n",
    "    args = parse_args()\n",
    "    main(args)"
   ]
  },
  {
   "cell_type": "code",
   "execution_count": 15,
   "id": "36318dc2",
   "metadata": {},
   "outputs": [
    {
     "name": "stdout",
     "output_type": "stream",
     "text": [
      "Namespace(num_workers=11)\n"
     ]
    }
   ],
   "source": [
    "print(args)"
   ]
  },
  {
   "cell_type": "code",
   "execution_count": 41,
   "id": "405ee46e",
   "metadata": {},
   "outputs": [],
   "source": []
  },
  {
   "cell_type": "code",
   "execution_count": null,
   "id": "187a8935",
   "metadata": {},
   "outputs": [],
   "source": []
  }
 ],
 "metadata": {
  "kernelspec": {
   "display_name": "Python 3 (ipykernel)",
   "language": "python",
   "name": "python3"
  },
  "language_info": {
   "codemirror_mode": {
    "name": "ipython",
    "version": 3
   },
   "file_extension": ".py",
   "mimetype": "text/x-python",
   "name": "python",
   "nbconvert_exporter": "python",
   "pygments_lexer": "ipython3",
   "version": "3.7.12"
  }
 },
 "nbformat": 4,
 "nbformat_minor": 5
}
